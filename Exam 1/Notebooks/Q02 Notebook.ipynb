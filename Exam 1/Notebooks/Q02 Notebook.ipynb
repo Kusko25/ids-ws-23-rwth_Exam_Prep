{
 "cells": [
  {
   "cell_type": "code",
   "execution_count": null,
   "metadata": {},
   "outputs": [],
   "source": [
    "import pandas as pd\n",
    "import numpy as np\n",
    "from matplotlib import pyplot as plt\n",
    "\n",
    "# Decision Tree\n",
    "from sklearn.tree import DecisionTreeRegressor, plot_tree\n",
    "# One-hot encoding\n",
    "from sklearn.preprocessing import OneHotEncoder\n",
    "# Pipeline\n",
    "from sklearn.pipeline import Pipeline"
   ]
  },
  {
   "cell_type": "code",
   "execution_count": null,
   "metadata": {},
   "outputs": [],
   "source": [
    "raw_data = \"\"\"Location Shared Apartment Rent\n",
    "City A True 300\n",
    "City B False 400\n",
    "City A True 250\n",
    "City A True 275\n",
    "City A False 500\n",
    "City C True 460\n",
    "City B False 700\n",
    "City C False 600\"\"\""
   ]
  },
  {
   "cell_type": "code",
   "execution_count": null,
   "metadata": {},
   "outputs": [],
   "source": [
    "data = raw_data.split('\\n')\n",
    "columns = data[0].split()\n",
    "# Rejoin col 1,2\n",
    "columns = columns[:1] + [' '.join(columns[1:3])] + columns[3:]\n",
    "data = [i.split() for i in data[1:]]\n",
    "# Rejoin data 0,1\n",
    "data = [[' '.join(i[:2])] + i[2:] for i in data]\n",
    "df = pd.DataFrame(data, columns=columns)\n",
    "types = ['category', str, 'int']\n",
    "for col, t in zip(df.columns, types):\n",
    "    df[col] = df[col].astype(t)\n",
    "df[df.columns[1]] = df[df.columns[1]].map({'True':True, 'False':False})\n",
    "display(df.rename(columns={col:f\"{col} ({df[col].dtype})\" for col in df.columns}))"
   ]
  },
  {
   "cell_type": "code",
   "execution_count": null,
   "metadata": {},
   "outputs": [],
   "source": [
    "def variance_i_used(switch, key='Location'):\n",
    "    # Pandas, by default, uses (val-mean)^2/(n-1) for variance\n",
    "    # this uses (val-mean)^2/n, which may or may not be how we did it in class\n",
    "    # I don't know, I learned all of this from the internet\n",
    "    # Should probably check before the exam so (TODO)\n",
    "    mean_city = df[df[key] == switch]['Rent'].mean()\n",
    "    var = 0\n",
    "    for i in df[df[key] == switch]['Rent']:\n",
    "        var += (i - mean_city)**2\n",
    "    var = var/df[df[key] == switch].shape[0]\n",
    "    return var\n",
    "\n",
    "# Split on Location\n",
    "# City A\n",
    "mean_A = df[df['Location'] == 'City A']['Rent'].mean()\n",
    "var_A = df[df['Location'] == 'City A']['Rent'].var()\n",
    "var_A_used = variance_i_used('City A')\n",
    "# City B\n",
    "mean_B = df[df['Location'] == 'City B']['Rent'].mean()\n",
    "var_B = df[df['Location'] == 'City B']['Rent'].var()\n",
    "var_B_used = variance_i_used('City B')\n",
    "# City C\n",
    "mean_C = df[df['Location'] == 'City C']['Rent'].mean()\n",
    "var_C = df[df['Location'] == 'City C']['Rent'].var()\n",
    "var_C_used = variance_i_used('City C')\n",
    "\n",
    "# Weighted variance\n",
    "proportion_A = df[df['Location'] == 'City A'].shape[0]/df.shape[0]\n",
    "proportion_B = df[df['Location'] == 'City B'].shape[0]/df.shape[0]\n",
    "proportion_C = df[df['Location'] == 'City C'].shape[0]/df.shape[0]\n",
    "var_w_total = proportion_A*var_A + proportion_B*var_B + proportion_C*var_C\n",
    "var_w_total_alt = proportion_A*var_A_used + proportion_B*var_B_used + proportion_C*var_C_used\n",
    "\n",
    "print(f\"City A: mean={mean_A}, var={var_A}, var_used={var_A_used}\")\n",
    "print(f\"City B: mean={mean_B}, var={var_B}, var_used={var_B_used}\")\n",
    "print(f\"City C: mean={mean_C}, var={var_C}, var_used={var_C_used}\")\n",
    "print(f\"Total weighted variance: {var_w_total}, var_w_total_alt={var_w_total_alt}\")\n",
    "\n",
    "# Split on Shared\n",
    "# Shared\n",
    "mean_shared = df[df['Shared Apartment'] == True]['Rent'].mean()\n",
    "var_shared = df[df['Shared Apartment'] == True]['Rent'].var()\n",
    "var_shared_used = variance_i_used(True, 'Shared Apartment')\n",
    "# Not Shared\n",
    "mean_not_shared = df[df['Shared Apartment'] == False]['Rent'].mean()\n",
    "var_not_shared = df[df['Shared Apartment'] == False]['Rent'].var()\n",
    "var_not_shared_used = variance_i_used(False, 'Shared Apartment')\n",
    "\n",
    "# Weighted variance\n",
    "proportion_shared = df[df['Shared Apartment'] == True].shape[0]/df.shape[0]\n",
    "proportion_not_shared = df[df['Shared Apartment'] == False].shape[0]/df.shape[0]\n",
    "var_w_total = proportion_shared*var_shared + proportion_not_shared*var_not_shared\n",
    "var_w_total_alt = proportion_shared*var_shared_used + proportion_not_shared*var_not_shared_used\n",
    "\n",
    "print(f\"Shared: mean={mean_shared}, var={var_shared}, var_used={var_shared_used}\")\n",
    "print(f\"Not Shared: mean={mean_not_shared}, var={var_not_shared}, var_used={var_not_shared_used}\")\n",
    "print(f\"Total weighted variance: {var_w_total}, var_w_total_alt={var_w_total_alt}\")"
   ]
  },
  {
   "cell_type": "code",
   "execution_count": null,
   "metadata": {},
   "outputs": [],
   "source": [
    "cell_df = df.copy()\n",
    "\n",
    "ax,f = plt.subplots(figsize=(30,10), ncols=3)\n",
    "for i,par in enumerate([['Location'], ['Shared Apartment'], ['Location', 'Shared Apartment']]):\n",
    "    pipe = Pipeline([('onehot', OneHotEncoder(drop='if_binary')), ('tree', DecisionTreeRegressor())])\n",
    "    pipe.fit(cell_df[par], cell_df['Rent'])\n",
    "    tree = pipe.named_steps['tree']\n",
    "    encoder = pipe.named_steps['onehot']\n",
    "    feature_names = encoder.get_feature_names_out()\n",
    "    plot_tree(tree, feature_names=feature_names, filled=True, ax=f[i])\n",
    "\n"
   ]
  }
 ],
 "metadata": {
  "kernelspec": {
   "display_name": "env-ids-ws23",
   "language": "python",
   "name": "python3"
  },
  "language_info": {
   "codemirror_mode": {
    "name": "ipython",
    "version": 3
   },
   "file_extension": ".py",
   "mimetype": "text/x-python",
   "name": "python",
   "nbconvert_exporter": "python",
   "pygments_lexer": "ipython3",
   "version": "3.9.18"
  }
 },
 "nbformat": 4,
 "nbformat_minor": 2
}
