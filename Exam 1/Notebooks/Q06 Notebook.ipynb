{
 "cells": [
  {
   "cell_type": "code",
   "execution_count": null,
   "metadata": {},
   "outputs": [],
   "source": []
  },
  {
   "cell_type": "code",
   "execution_count": null,
   "metadata": {},
   "outputs": [],
   "source": [
    "# Itemsets\n",
    "def make_set(l,u):\n",
    "    # ASCII A-Z = 65-90\n",
    "    set_ = []\n",
    "    l = l + 65\n",
    "    u = u + 65\n",
    "    for i in range(l,u+1):\n",
    "        set_.append(chr(i))\n",
    "    return set(set_)\n",
    "\n",
    "sets = []\n",
    "for i in range(2):\n",
    "    sets.append(make_set(0,4))\n",
    "for _ in range(4):\n",
    "    sets.append(make_set(0,2))\n",
    "for _ in range(4):\n",
    "    sets.append(make_set(1,3))\n",
    "\n",
    "display(sets)"
   ]
  },
  {
   "cell_type": "code",
   "execution_count": null,
   "metadata": {},
   "outputs": [],
   "source": [
    "\n",
    "def preprocess(itemset):\n",
    "    if isinstance(itemset,str):\n",
    "        return set(itemset)\n",
    "    else:\n",
    "        return itemset\n",
    "\n",
    "def support(itemset,sets=sets):\n",
    "    itemset = preprocess(itemset)\n",
    "    count = 0\n",
    "    for set_ in sets:\n",
    "        if itemset.issubset(set_):\n",
    "            count += 1\n",
    "    return count/len(sets)\n",
    "\n",
    "def confidence(left,right,sets=sets):\n",
    "    left = preprocess(left)\n",
    "    right = preprocess(right)\n",
    "    return support(left.union(right),sets)/support(left,sets)\n",
    "\n",
    "def lift(left,right,sets=sets):\n",
    "    left = preprocess(left)\n",
    "    right = preprocess(right)\n",
    "    return support(left.union(right),sets)/(support(right,sets)*support(left,sets))"
   ]
  },
  {
   "cell_type": "code",
   "execution_count": null,
   "metadata": {},
   "outputs": [],
   "source": [
    "print(support('B',sets),support('C',sets))"
   ]
  },
  {
   "cell_type": "code",
   "execution_count": null,
   "metadata": {},
   "outputs": [],
   "source": [
    "print(confidence('A','B'),confidence('B','C'))"
   ]
  },
  {
   "cell_type": "code",
   "execution_count": null,
   "metadata": {},
   "outputs": [],
   "source": [
    "# Iterate over all possible itemsets\n",
    "for i in range(len(\"ABCDE\")**2):\n",
    "    left = set()\n",
    "    for j in range(len(\"ABCDE\")):\n",
    "        if i & (1 << j):\n",
    "            left.add(\"ABCDE\"[j])\n",
    "    for k in range(len(\"ABCDE\")**2):\n",
    "        right = set()\n",
    "        for l in range(len(\"ABCDE\")):\n",
    "            if k & (1 << l):\n",
    "                right.add(\"ABCDE\"[l])\n",
    "        if len(left) > 0 and len(right) > 0:\n",
    "            lift_ = lift(left,right)\n",
    "            if lift_ < 1:\n",
    "                print(left,right,lift(left,right))"
   ]
  },
  {
   "cell_type": "code",
   "execution_count": null,
   "metadata": {},
   "outputs": [],
   "source": [
    "# FP Tree\n",
    "min_support = 3/14\n",
    "sets = [\"ABC\",\"ABC\",\"ABCD\",\"ABCD\",\"ABDF\",\"A\",\"A\",\"A\",\"A\",\"A\",\"BE\",\"BE\",\"BE\",\"BF\"]\n",
    "tree_list = [[('',14)]]\n",
    "new_tree_list = []\n",
    "previous_sets = set()\n",
    "finished = False\n",
    "while not finished:\n",
    "    for set_,_ in tree_list[-1]:\n",
    "        for item in \"ABCDEF\"[len(set_):]:\n",
    "            if item in set_:\n",
    "                continue\n",
    "            sup = support(set_ + item,sets)\n",
    "            if sup >= min_support and set_ + item not in previous_sets:\n",
    "                new_tree_list.append((set_ + item,int(sup*14)))\n",
    "                previous_sets.add(\"\".join(sorted(set_ + item)))\n",
    "    if len(new_tree_list) == 0:\n",
    "        finished = True\n",
    "    else:\n",
    "        # Remove permutations\n",
    "        for i in range(len(new_tree_list)):\n",
    "            for j in range(i+1,len(new_tree_list)):\n",
    "                if set(new_tree_list[i][0]) == set(new_tree_list[j][0]):\n",
    "                    new_tree_list[j] = ('',0)\n",
    "        new_tree_list = [x for x in new_tree_list if x[0] != '']\n",
    "        tree_list.append(new_tree_list)\n",
    "        new_tree_list = []\n",
    "\n",
    "# Render tree using graphviz\n",
    "from graphviz import Digraph\n",
    "dot = Digraph(comment='FP Tree')\n",
    "for i in range(len(tree_list)):\n",
    "    for set_,sup in tree_list[i]:\n",
    "        dot.node(set_,label=set_ + \" (\" + str(sup) + \")\")\n",
    "        if i > 0:\n",
    "            dot.edge(tree_list[i-1][0][0],set_)\n",
    "dot.render('fp_tree.gv', view=True)"
   ]
  }
 ],
 "metadata": {
  "kernelspec": {
   "display_name": "env-ids-ws23",
   "language": "python",
   "name": "python3"
  },
  "language_info": {
   "codemirror_mode": {
    "name": "ipython",
    "version": 3
   },
   "file_extension": ".py",
   "mimetype": "text/x-python",
   "name": "python",
   "nbconvert_exporter": "python",
   "pygments_lexer": "ipython3",
   "version": "3.9.18"
  }
 },
 "nbformat": 4,
 "nbformat_minor": 2
}
