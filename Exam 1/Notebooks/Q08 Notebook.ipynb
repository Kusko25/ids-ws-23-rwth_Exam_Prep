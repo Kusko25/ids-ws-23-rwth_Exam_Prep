{
 "cells": [
  {
   "cell_type": "markdown",
   "metadata": {},
   "source": [
    "## Set operators cheat sheet\n",
    "| Operator         | Name     | Description |\n",
    "|--------------|-----------|------------|\n",
    "| $A \\cup B$ | Union | All the elements in $A$ and all the elements in $B$ |\n",
    "| $A \\cap B$ | Intersection | All the elements that are in $A$ and in $B$ |\n",
    "| $A \\setminus B$ | Difference | All the elements in $A$ without the ones in $B$ |\n"
   ]
  },
  {
   "cell_type": "markdown",
   "metadata": {},
   "source": [
    "# Q8\n",
    "## (a)\n",
    "### (i)\n",
    "True positives is the set of values that are positive and were identified as positive."
   ]
  },
  {
   "cell_type": "markdown",
   "metadata": {},
   "source": [
    "<!-- Solution header so it isn't immediately visible when the field is collapsed -->\n",
    "$D_1 \\cap D_2$"
   ]
  },
  {
   "cell_type": "markdown",
   "metadata": {},
   "source": [
    "### (ii)\n",
    "False negatives are values that were excluded, but shouldn't have been."
   ]
  },
  {
   "cell_type": "markdown",
   "metadata": {},
   "source": [
    "<!-- Solution header so it isn't immediately visible when the field is collapsed -->\n",
    "$(D \\setminus D_2) \\cap D_1$"
   ]
  },
  {
   "cell_type": "markdown",
   "metadata": {},
   "source": [
    "## (b)"
   ]
  },
  {
   "cell_type": "code",
   "execution_count": null,
   "metadata": {},
   "outputs": [],
   "source": [
    "# Count Vectorizer\n",
    "from sklearn.feature_extraction.text import CountVectorizer\n",
    "import math, base64\n",
    "\n",
    "D = [\"Process mining is a discipline that performs analysis on process data. The starting point for process mining are event data in the form of a so-called event log.\",\n",
    "     \"Business owners can gain insights on their process by analyzing their event data. Process mining software can help organizations capture information from enterprise transaction systems and provides detailed information about how key processes are performing.\"\n",
    "]\n",
    "\n",
    "Q = \"event log\"\n",
    "\n",
    "# If we take the given corpus literally without concern for punctuation\n",
    "# the first question already produces a different answer because \"log\" and \"log.\"\n",
    "# are two differen words. I got you now RWTH, you made a boo-boo and I deserve a 1.0\n",
    "if filterPunctuation:=True:\n",
    "    D = [\n",
    "        \"\".join([c for c in d if c.isalnum() or c.isspace()])\n",
    "        for d in D\n",
    "    ]\n",
    "    Q = \"\".join([c for c in Q if c.isalnum() or c.isspace()])\n",
    "\n",
    "DV = [\n",
    "    CountVectorizer(preprocessor=lambda x: x, tokenizer=lambda x: x.split()).fit([d])\n",
    "    for d in D\n",
    "]\n",
    "DV = [\n",
    "    {w:c for w,c in zip(dv.get_feature_names_out(), dv.fit_transform([d]).toarray()[0])}\n",
    "    for d,dv in zip(D,DV)\n",
    "]\n",
    "display(DV[0])"
   ]
  },
  {
   "cell_type": "code",
   "execution_count": null,
   "metadata": {},
   "outputs": [],
   "source": [
    "def fscore(query,corpus,func):\n",
    "    if any(func(word,corpus)==\"NaN\" for word in query.split() if word in corpus):\n",
    "        return \"NaN\"\n",
    "    return sum(func(word,corpus) for word in query.split() if word in corpus)"
   ]
  },
  {
   "cell_type": "code",
   "execution_count": null,
   "metadata": {},
   "outputs": [],
   "source": [
    "## i) Term Frequency (TF) Q D1\n",
    "tf = lambda x,y: y[x]\n",
    "print(fscore(Q,DV[0],tf))"
   ]
  },
  {
   "cell_type": "code",
   "execution_count": null,
   "metadata": {},
   "outputs": [],
   "source": [
    "## ii) Term Set (TS) Q D2\n",
    "# Side note can someone tell me where the term set score was introduced?\n",
    "# Because the first mention I found of it was in the solution for instruction 10\n",
    "\n",
    "# In case someone else was confused ts gives 1 if the term is present, regardless of count\n",
    "# and 0 otherwise.\n",
    "\n",
    "# This only returns 1 because fscore already checks for membership.\n",
    "ts = lambda x,y: 1\n",
    "print(fscore(Q,DV[1],ts))"
   ]
  },
  {
   "cell_type": "code",
   "execution_count": null,
   "metadata": {},
   "outputs": [],
   "source": [
    "## iii)\n",
    "Qiii = \"\"\n",
    "\n",
    "# My answer encrypted for your pleasure\n",
    "# Qiii = base64.b64decode(b'aW5zaWdodHMgYW5hbHl6aW5n').decode(\"utf-8\")\n",
    "\n",
    "print(f\"tf score for '{Qiii}' in D1: {fscore(Qiii,DV[0],tf)}\\ntf score for '{Qiii}' in D2: {fscore(Qiii,DV[1],tf)}\")"
   ]
  },
  {
   "cell_type": "code",
   "execution_count": null,
   "metadata": {},
   "outputs": [],
   "source": [
    "## iv) tfidf\n",
    "# w(ord) c(orpus) d(ocument)\n",
    "idf = lambda w,c: math.log2(len(c)/(sum(int(w in d) for d in c))) if sum(int(w in d) for d in c) > 0 else \"NaN\"\n",
    "tfidf = lambda w,d: tf(w,d) * idf(w,DV) if idf(w,DV) != \"NaN\" else \"NaN\"\n",
    "\n",
    "Qiv = \"\"\n",
    "\n",
    "# My answer encrypted for your pleasure\n",
    "# Qiv = base64.b64decode(b'cHJvY2VzcyBtaW5pbmc=').decode(\"utf-8\")\n",
    "\n",
    "print(f\"Query '{Qiv}'\\ntf-score: {fscore(Qiv,DV[0],tf)}\\ntfidf-score: {fscore(Qiv,DV[0],tfidf)}\")"
   ]
  }
 ],
 "metadata": {
  "kernelspec": {
   "display_name": "env-ids-ws23",
   "language": "python",
   "name": "python3"
  },
  "language_info": {
   "codemirror_mode": {
    "name": "ipython",
    "version": 3
   },
   "file_extension": ".py",
   "mimetype": "text/x-python",
   "name": "python",
   "nbconvert_exporter": "python",
   "pygments_lexer": "ipython3",
   "version": "3.9.18"
  }
 },
 "nbformat": 4,
 "nbformat_minor": 2
}
