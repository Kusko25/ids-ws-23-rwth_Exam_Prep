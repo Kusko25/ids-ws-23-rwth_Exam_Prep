{
 "cells": [
  {
   "cell_type": "code",
   "execution_count": null,
   "metadata": {},
   "outputs": [],
   "source": [
    "import numpy as np"
   ]
  },
  {
   "cell_type": "code",
   "execution_count": null,
   "metadata": {},
   "outputs": [],
   "source": [
    "profit_matrix = np.array([[1000,-2000],[-1200,900]])\n",
    "conf_matrix_m1 = np.array([[60,10],[28,2]])\n",
    "conf_matrix_m2 = np.array([[55,15],[20,10]])\n",
    "conf_matrix_m3 = np.array([[45,25],[15,15]])\n",
    "\n",
    "profit_m1 = np.sum(profit_matrix * conf_matrix_m1)\n",
    "profit_m2 = np.sum(profit_matrix * conf_matrix_m2)\n",
    "profit_m3 = np.sum(profit_matrix * conf_matrix_m3)\n",
    "print(f\"Profit for model 1: {profit_m1}\")\n",
    "print(f\"Profit for model 2: {profit_m2}\")\n",
    "print(f\"Profit for model 3: {profit_m3}\")"
   ]
  }
 ],
 "metadata": {
  "kernelspec": {
   "display_name": "env-ids-ws23",
   "language": "python",
   "name": "python3"
  },
  "language_info": {
   "codemirror_mode": {
    "name": "ipython",
    "version": 3
   },
   "file_extension": ".py",
   "mimetype": "text/x-python",
   "name": "python",
   "nbconvert_exporter": "python",
   "pygments_lexer": "ipython3",
   "version": "3.9.18"
  }
 },
 "nbformat": 4,
 "nbformat_minor": 2
}
