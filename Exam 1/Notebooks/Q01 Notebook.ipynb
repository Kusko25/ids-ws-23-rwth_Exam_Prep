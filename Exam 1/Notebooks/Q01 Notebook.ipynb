{
 "cells": [
  {
   "cell_type": "code",
   "execution_count": null,
   "metadata": {},
   "outputs": [],
   "source": [
    "import pandas as pd\n",
    "from sklearn.preprocessing import MinMaxScaler\n",
    "# Standard Score\n",
    "from sklearn.preprocessing import StandardScaler\n",
    "import seaborn as sns"
   ]
  },
  {
   "cell_type": "code",
   "execution_count": null,
   "metadata": {},
   "outputs": [],
   "source": [
    "raw_data=\"\"\"Rank Name Age Height\n",
    "(scaled)\n",
    "Weight\n",
    "(lb)\n",
    "Reach\n",
    "(cm)\n",
    "1 Alexander Volkanovski 33 1.00 144.5 182\n",
    "2 Islam Makhachev 31 4.60 154.5 179\n",
    "3 Leon Edwards 31 6.40 169.5 188\n",
    "4 Kamaru Usman 35 6.40 170 193\n",
    "5 Francis Ngannou 35 10.00 257 211\n",
    "6 Israel Adesanya 33 10.00 185 203\n",
    "7 Charles Oliveira 33 4.60 175 188\n",
    "8 Alex Pereira 35 9.64 184.6 200\n",
    "9 Aljamain Sterling 33 1.72 153 180\n",
    "10 Jiří Procházka 30 8.92 205 203\"\"\""
   ]
  },
  {
   "cell_type": "code",
   "execution_count": null,
   "metadata": {},
   "outputs": [],
   "source": [
    "# data = paste()\n",
    "data = raw_data.split(\"\\n\")\n",
    "columns = data[0].split()\n",
    "for item in list(data[1:]):\n",
    "    if item.startswith(\"(\"):\n",
    "        columns[-1] += f\" {item}\"\n",
    "        data.remove(item)\n",
    "    elif item[0].isdigit():\n",
    "        break\n",
    "    else:\n",
    "        columns.append(item)\n",
    "        data.remove(item)\n",
    "data = data[1:]\n",
    "data = [x.split() for x in data]\n",
    "data = [x[:1] + [\" \".join(x[1:3])] + x[3:] for x in data]\n",
    "data = pd.DataFrame(data, columns=columns)\n",
    "for type_,col in zip([int,str,int,float,float,int],data.columns):\n",
    "    data[col] = data[col].astype(type_)\n",
    "\n",
    "display(data.rename(columns={col:f\"{col} ({data[col].dtype})\" for col in data.columns}))"
   ]
  },
  {
   "cell_type": "code",
   "execution_count": null,
   "metadata": {},
   "outputs": [],
   "source": [
    "# (a) Equal width binning\n",
    "lower_bound_open = 125\n",
    "upper_bound_closed = 265\n",
    "n_bins = 4\n",
    "interval_width = (upper_bound_closed - lower_bound_open) / n_bins\n",
    "lower_bounds = [lower_bound_open + interval_width * i for i in range(n_bins)]\n",
    "upper_bounds = [lower_bound_open + interval_width * (i+1) for i in range(n_bins)]\n",
    "col_ = data.columns[4]\n",
    "\n",
    "bins = []\n",
    "def get_df_bin(df, col, lower_bound, upper_bound):\n",
    "    return df[(df[col] > lower_bound) & (df[col] <= upper_bound)]\n",
    "\n",
    "for i in range(n_bins):\n",
    "    print(f\"({lower_bounds[i]},{upper_bounds[i]}]\")\n",
    "    display(get_df_bin(data, col_, lower_bounds[i], upper_bounds[i]))"
   ]
  },
  {
   "cell_type": "code",
   "execution_count": null,
   "metadata": {},
   "outputs": [],
   "source": [
    "# (b) Min-max reverse scaling\n",
    "l,u = 168,193\n",
    "col = data.columns[3]\n",
    "scaler = MinMaxScaler(feature_range=(l,u)).fit(data[[col]])\n",
    "\n",
    "idxs = [4,6,8]\n",
    "idxs = [x-1 for x in idxs]\n",
    "\n",
    "df_b = data.copy()\n",
    "df_b[\"Height (original)\"] = scaler.transform(df_b[[col]])\n",
    "# Highlight rows of df_b in idxs\n",
    "# float_cols = [x for x in df_b.columns if df_b[x].dtype == float]\n",
    "df_b_style = df_b.style.apply(lambda x: [\"background: gray\" if x.name in idxs else \"\" for i in x], axis=1)\n",
    "df_b_style = df_b_style.format({col: \"{:.2f}\" for col in [x for x in df_b.columns if df_b[x].dtype == float]})\n",
    "display(df_b_style)"
   ]
  },
  {
   "cell_type": "code",
   "execution_count": null,
   "metadata": {},
   "outputs": [],
   "source": [
    "# (c) Standard Score\n",
    "col = data.columns[5]\n",
    "df_c = data.copy()\n",
    "mean = df_c[col].mean()\n",
    "std = df_c[col].std()\n",
    "std_given = 10.53\n",
    "scaler = StandardScaler().fit(df_c[[col]])\n",
    "df_c[\"Reach (standard score)\"] = scaler.transform(df_c[[col]])\n",
    "my_scaler = lambda x: (x - mean) / std_given\n",
    "df_c[\"Reach (standard score with given std)\"] = df_c[col].apply(my_scaler)\n",
    "\n",
    "idxs = list(map(lambda x: x-1, [3,5]))\n",
    "df_c_style = df_c.style.apply(lambda x: [\"background: gray\" if x.name in idxs else \"\" for i in x], axis=1)\n",
    "df_c_style = df_c_style.format({col: \"{:.2f}\" for col in [x for x in df_c.columns if df_c[x].dtype == float]})\n",
    "print(f\"Mean: {mean:.2f}, Std: {std:.2f}, Std (given): {std_given:.2f}\")\n",
    "display(df_c_style)"
   ]
  }
 ],
 "metadata": {
  "kernelspec": {
   "display_name": "env-ids-ws23",
   "language": "python",
   "name": "python3"
  },
  "language_info": {
   "codemirror_mode": {
    "name": "ipython",
    "version": 3
   },
   "file_extension": ".py",
   "mimetype": "text/x-python",
   "name": "python",
   "nbconvert_exporter": "python",
   "pygments_lexer": "ipython3",
   "version": "3.9.18"
  }
 },
 "nbformat": 4,
 "nbformat_minor": 2
}
