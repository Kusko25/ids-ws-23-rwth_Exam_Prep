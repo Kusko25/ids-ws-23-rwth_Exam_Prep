{
 "cells": [
  {
   "cell_type": "code",
   "execution_count": null,
   "metadata": {},
   "outputs": [],
   "source": [
    "import pandas as pd\n",
    "\n",
    "data = \"\"\"Occupation City Criminal Record Loan Approved\n",
    "retailer Köln no yes\n",
    "retailer Aachen no no\n",
    "retailer Aachen yes no\n",
    "doctor Aachen yes no\n",
    "doctor Aachen no yes\n",
    "doctor Düsseldorf no yes\"\"\"\n",
    "data = data.splitlines()\n",
    "\n",
    "columns,data = data[0].split(),[x.split() for x in data[1:]]\n",
    "columns = columns[:2] + [\" \".join(columns[2:4])] + [\" \".join(columns[4:6])]\n",
    "\n",
    "data = pd.DataFrame(data,columns=columns)\n",
    "map_bool = {\"no\":False,\"yes\":True}\n",
    "for bool_ in [\"Criminal Record\",\"Loan Approved\"]:\n",
    "    data[bool_] = data[bool_].map(lambda x: map_bool[x] if x in map_bool else pd.NA)\n",
    "for cat in  [\"Occupation\",\"City\"]:\n",
    "    data[cat] = data[cat].astype(\"category\")\n",
    "\n",
    "display(data.rename({col:f\"{col} ({data[col].dtype})\" for col in data.columns}, axis=1))"
   ]
  },
  {
   "cell_type": "code",
   "execution_count": null,
   "metadata": {},
   "outputs": [],
   "source": [
    "def count_conditional(data, conditions:list[tuple[str,str]], return_df=False):\n",
    "    data_f = data.copy().reset_index()\n",
    "    common_sel = pd.Series([True]*len(data_f))\n",
    "    for comp_col,comp_val in conditions:\n",
    "        common_sel &= (data_f[comp_col] == comp_val)\n",
    "    common_sel = data_f[common_sel].reset_index()\n",
    "    if return_df:\n",
    "        return common_sel\n",
    "    else:\n",
    "        return len(common_sel)\n",
    "\n",
    "count_conditional(data, [(\"City\",\"Aachen\")],True)"
   ]
  },
  {
   "cell_type": "markdown",
   "metadata": {},
   "source": [
    "# Q9\n",
    "## (a)\n",
    "Base rule = Query of all relevant entries  \n",
    "PD rule = Query that matches only potentially discriminated entries"
   ]
  },
  {
   "cell_type": "markdown",
   "metadata": {},
   "source": [
    "<!--  -->\n",
    "<details>\n",
    "    <summary>My answer b_1</summary>\n",
    "    b_1 = {Occupation = Retailer} -> {Loan Approved = False}\n",
    "</details>\n",
    "<details>\n",
    "    <summary>My answer r_1</summary>\n",
    "    r_1 = {Occupation = Retailer, City = Aachen} -> {Loan Approved = False}\n",
    "</details>"
   ]
  },
  {
   "cell_type": "code",
   "execution_count": null,
   "metadata": {},
   "outputs": [],
   "source": [
    "# Extended Lift is confidence in the PD Rule divided by confidence in the Base Rule\n",
    "# Confidence for A->B was support(A and B)/support(A)\n",
    "# Support was count of set in data or fraction of set in data, lectures and instructions flip flop there,\n",
    "# but it's irrelevant here\n",
    "# Aside: We really should be allowed a formula collection, there are a lot of terms to keep track of"
   ]
  },
  {
   "cell_type": "code",
   "execution_count": null,
   "metadata": {},
   "outputs": [],
   "source": [
    "b2 = ([(\"Occupation\",\"doctor\"),(\"City\",\"Aachen\")],[(\"Loan Approved\",False)])\n",
    "r2 = ([(\"Criminal Record\",True),(\"Occupation\",\"doctor\"),(\"City\",\"Aachen\")],[(\"Loan Approved\",False)])\n",
    "conf_b2 = (\n",
    "    count_conditional(data,b2[0]+b2[1])/\n",
    "    count_conditional(data,b2[0])\n",
    ")\n",
    "conf_r2 = (\n",
    "    count_conditional(data,r2[0] + r2[1])/\n",
    "    count_conditional(data,r2[0])\n",
    ")\n",
    "exlift = conf_r2/conf_b2"
   ]
  },
  {
   "cell_type": "code",
   "execution_count": null,
   "metadata": {},
   "outputs": [],
   "source": [
    "print(f\"The extended lift of b2 and r2 is {exlift}\")"
   ]
  },
  {
   "cell_type": "code",
   "execution_count": null,
   "metadata": {},
   "outputs": [],
   "source": [
    "alpha = 3\n",
    "if exlift>=alpha:\n",
    "    print(f\"r2 is {alpha}-discriminatory.\")\n",
    "else:\n",
    "    print(f\"r2 is not {alpha}-discriminatory.\")"
   ]
  },
  {
   "cell_type": "code",
   "execution_count": null,
   "metadata": {},
   "outputs": [],
   "source": [
    "def get_equivalence_classes(data,sensitive_attributes):\n",
    "    data_f = data.copy()\n",
    "    equivalence_classes = {}\n",
    "    for index,row in data_f.iterrows():\n",
    "        key = tuple(row[sensitive_attributes])\n",
    "        if key not in equivalence_classes:\n",
    "            equivalence_classes[key] = []\n",
    "        equivalence_classes[key].append(index)\n",
    "    return equivalence_classes\n",
    "\n",
    "def is_k_anonymous(data:pd.DataFrame,sensitive_attributes:list[str],k:int):\n",
    "    equivalence_classes = get_equivalence_classes(data,sensitive_attributes)\n",
    "    return {\n",
    "        class_:len(equivalence_classes[class_])>=k\n",
    "        for class_ in equivalence_classes\n",
    "    }\n",
    "\n",
    "def is_class_k_anonymous(data:pd.DataFrame,equivalence_class:list[int],k:int):\n",
    "    return len(equivalence_class)>=k\n",
    "\n",
    "def is_l_diverse(data:pd.DataFrame,sensitive_attributes:list[str],sensitive_attribute:str,l:int):\n",
    "    equivalence_classes = get_equivalence_classes(data,sensitive_attributes)\n",
    "    return {\n",
    "        class_:len(set(data.loc[equivalence_classes[class_]][sensitive_attribute]))>=l\n",
    "        for class_ in equivalence_classes\n",
    "    }\n",
    "\n",
    "def is_class_l_diverse(data:pd.DataFrame,equivalence_class:list[int],sensitive_attribute:str,l:int):\n",
    "    return len(set(data.loc[equivalence_class][sensitive_attribute]))>=l"
   ]
  },
  {
   "cell_type": "code",
   "execution_count": null,
   "metadata": {},
   "outputs": [],
   "source": [
    "quasi_id = [\"Occupation\",\"City\"]\n",
    "sens_attr = [\"Criminal Record\",\"Loan Approved\"]\n",
    "\n",
    "for eq_class,rows in get_equivalence_classes(data,quasi_id).items():\n",
    "    print(f\"The equivalence class {eq_class} is {len(rows)}-anonymous.\")\n",
    "    for sensitive_attribute in sens_attr:\n",
    "        print(f\"The equivalence class {eq_class} is {len(set(data.loc[rows][sensitive_attribute]))}-diverse for {sensitive_attribute}.\")\n",
    "    display(data.loc[rows])"
   ]
  },
  {
   "cell_type": "markdown",
   "metadata": {},
   "source": [
    "<details>\n",
    "<summary>My Answer (c)</summary>\n",
    "You didn't ask that it is a good operation, so since equivalence class ('doctor','Aachen') is already 2-diverse we just eliminate all other rows.\n",
    "</details>"
   ]
  }
 ],
 "metadata": {
  "kernelspec": {
   "display_name": "env-ids-ws23",
   "language": "python",
   "name": "python3"
  },
  "language_info": {
   "codemirror_mode": {
    "name": "ipython",
    "version": 3
   },
   "file_extension": ".py",
   "mimetype": "text/x-python",
   "name": "python",
   "nbconvert_exporter": "python",
   "pygments_lexer": "ipython3",
   "version": "3.9.18"
  }
 },
 "nbformat": 4,
 "nbformat_minor": 2
}
