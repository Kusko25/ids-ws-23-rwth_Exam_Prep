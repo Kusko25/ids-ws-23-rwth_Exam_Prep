{
 "cells": [
  {
   "cell_type": "code",
   "execution_count": null,
   "metadata": {},
   "outputs": [],
   "source": [
    "import pandas as pd\n",
    "import numpy as np\n",
    "import seaborn as sns\n",
    "from random import random\n",
    "# k-means clustering\n",
    "from sklearn.cluster import KMeans"
   ]
  },
  {
   "cell_type": "code",
   "execution_count": null,
   "metadata": {},
   "outputs": [],
   "source": [
    "points = [(5,2),(5,3), (5,4), (5,5), (10,2), (10,3), (10,4), (10,5)]\n",
    "c1 = points[0]\n",
    "c2 = points[3]\n",
    "result = KMeans(n_clusters=2, init=[c1, c2],max_iter=1).fit(points)\n",
    "print(f\"Cluster center 1: {result.cluster_centers_[0]}, Cluster center 2: {result.cluster_centers_[1]}\")\n",
    "print(f\"Cluster 1: {[(f'd{i+1}',points[i]) for i,v in enumerate(result.labels_) if v == 0]}\")\n",
    "print(f\"Cluster 2: {[(f'd{i+1}',points[i]) for i,v in enumerate(result.labels_) if v == 1]}\")"
   ]
  },
  {
   "cell_type": "code",
   "execution_count": null,
   "metadata": {},
   "outputs": [],
   "source": [
    "## (b)\n",
    "# Elipsis function\n",
    "def elipsis(radius, stretch_x, stretch_y, belt_width):\n",
    "    # Generates a random point that lies within distance belt_width of the elipsis defined by the parameters\n",
    "    angle = random() * 2 * np.pi\n",
    "    factor = random() > 0.5\n",
    "    factor = -1 if factor else 1\n",
    "    distance = radius + ((random() * belt_width) * factor)\n",
    "    x = distance * np.cos(angle)\n",
    "    y = distance * np.sin(angle)\n",
    "    return (x * stretch_x, y * stretch_y)\n",
    "\n",
    "# Generate 1000 points\n",
    "n_points_el_1 = 500\n",
    "n_points_el_2 = 500\n",
    "points = [elipsis(50, 1.5, 1, 5) for i in range(n_points_el_1)] + [elipsis(20, 1.5, 1, 5) for i in range(n_points_el_2)]\n",
    "target = [0 for i in range(n_points_el_1)] + [1 for i in range(n_points_el_2)]\n",
    "\n",
    "sns.scatterplot(x=[p[0] for p in points], y=[p[1] for p in points], hue=target)"
   ]
  },
  {
   "cell_type": "code",
   "execution_count": null,
   "metadata": {},
   "outputs": [],
   "source": [
    "# K-means clustering\n",
    "result = KMeans(n_clusters=2).fit_predict(points)\n",
    "sns.scatterplot(x=[p[0] for p in points], y=[p[1] for p in points], hue=result)\n"
   ]
  },
  {
   "cell_type": "code",
   "execution_count": null,
   "metadata": {},
   "outputs": [],
   "source": [
    "# DBSCAN\n",
    "from sklearn.cluster import DBSCAN\n",
    "from sklearn.preprocessing import StandardScaler\n",
    "\n",
    "scaler = StandardScaler()\n",
    "dbscan = DBSCAN(eps=0.5, min_samples=5)\n",
    "\n",
    "scaled = scaler.fit_transform(points)\n",
    "result = dbscan.fit_predict(scaled)\n",
    "sns.scatterplot(x=[p[0] for p in scaled], y=[p[1] for p in scaled], hue=result)"
   ]
  },
  {
   "cell_type": "code",
   "execution_count": null,
   "metadata": {},
   "outputs": [],
   "source": [
    "# Agglomerative clustering\n",
    "from sklearn.cluster import AgglomerativeClustering\n",
    "agg = AgglomerativeClustering(n_clusters=2, linkage='single')\n",
    "result = agg.fit_predict(points)\n",
    "sns.scatterplot(x=[p[0] for p in points], y=[p[1] for p in points], hue=result)"
   ]
  }
 ],
 "metadata": {
  "kernelspec": {
   "display_name": "env-ids-ws23",
   "language": "python",
   "name": "python3"
  },
  "language_info": {
   "codemirror_mode": {
    "name": "ipython",
    "version": 3
   },
   "file_extension": ".py",
   "mimetype": "text/x-python",
   "name": "python",
   "nbconvert_exporter": "python",
   "pygments_lexer": "ipython3",
   "version": "3.9.18"
  }
 },
 "nbformat": 4,
 "nbformat_minor": 2
}
