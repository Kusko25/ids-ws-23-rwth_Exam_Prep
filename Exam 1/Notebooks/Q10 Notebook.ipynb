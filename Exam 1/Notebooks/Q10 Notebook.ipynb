{
 "cells": [
  {
   "cell_type": "code",
   "execution_count": null,
   "metadata": {},
   "outputs": [],
   "source": [
    "import numpy as np\n",
    "import base64"
   ]
  },
  {
   "cell_type": "code",
   "execution_count": null,
   "metadata": {},
   "outputs": [],
   "source": [
    "input_values = [\n",
    "    (1,1),\n",
    "    (2,1.5),\n",
    "    (4,1),\n",
    "    (7,7)\n",
    "]\n",
    "c1 = np.array((0,0))\n",
    "c2 = np.array((10,10))\n",
    "alpha = 0.5"
   ]
  },
  {
   "cell_type": "code",
   "execution_count": null,
   "metadata": {},
   "outputs": [],
   "source": [
    "def map_f(data:tuple[float,float]) -> int:\n",
    "    data = np.array(data)\n",
    "    # apply euclidean norm\n",
    "    d1 = np.linalg.norm(data-c1)\n",
    "    d2 = np.linalg.norm(data-c2)\n",
    "    return 1 if d1 <= d2 else 2\n",
    "\n",
    "def reduce(idx:int, data:list[tuple[float,float]]):\n",
    "    count = len(data)\n",
    "    if idx==1:\n",
    "        return (\n",
    "            alpha+count,\n",
    "            (alpha*c1+np.sum(data,axis=0))/(alpha+count)\n",
    "        )\n",
    "    elif idx==2:\n",
    "        return (\n",
    "            alpha+count,\n",
    "            (alpha*c2+np.sum(data,axis=0))/(alpha+count)\n",
    "        )\n",
    "    else:\n",
    "        raise ValueError(\"Invalid index\")\n",
    "\n",
    "def mapreduce(data:list[tuple[float,float]]):\n",
    "    mapped = [map_f(val) for val in data]\n",
    "    reduced = []\n",
    "    for idx in set(mapped):\n",
    "        reduced.append(reduce(idx, [data[i] for i in range(len(data)) if mapped[i]==idx]))\n",
    "    return reduced\n",
    "\n",
    "for result in mapreduce(input_values):\n",
    "    print((result[0],result[1].tolist()))"
   ]
  },
  {
   "cell_type": "code",
   "execution_count": null,
   "metadata": {},
   "outputs": [],
   "source": [
    "# Answer to bonus question, encrypted with base64 so it doesn't spoil the fun\n",
    "# Just run the cell to get the answer\n",
    "print(base64.b64decode(b'VGhpcyBtYXByZWR1Y2UgaW1wbGVtZW50YXRpb24gcGVyZm9ybXMgdGhlIGRhdGEgY2x1c3RlcmluZyB1c2luZyB0aGUgay1tZWFucyBhbGdvcml0aG0Kd2hlcmUgYzEsIGMyIGFyZSB0aGUgaW5pdGlhbCBjZW50cm9pZHMgYW5kIGFscGhhIGdpdmVzIHRoZSB3ZWlnaHQgb2YgdGhlIGluaXRpYWwgY2VudHJvaWRzCgpUbyBiZSBhYnNvbHV0ZWx5IGNsZWFyLCBJJ20gdXNpbmcgZ2l0aHViIGNvcGlsb3QgYW5kIGl0IGZpZ3VyZWQgb3V0IHdoYXQgdGhpcyBkb2VzCm5vdCBtZS4gU28gSSBoZXJlYnkgZGVjbGFyZSB0aGF0IChJJ20gbm90IGEgZGF0YSBzY2llbnRpc3QgYW5kIEkgZG9uJ3Qga25vdyB3aGF0IEknbSBkb2luZyk8LSBjb3BpbG90IGF1dG8tY29tcGxldGVkIHRoaXMKamMgY2hpbGwsIHlvdSBhcmUgdmVyeSBnb29kIGJ1dCBJIHN0aWxsIGZlZWwgSSdtIGFscmlnaHQ=').decode('utf-8'))"
   ]
  }
 ],
 "metadata": {
  "kernelspec": {
   "display_name": "env-ids-ws23",
   "language": "python",
   "name": "python3"
  },
  "language_info": {
   "codemirror_mode": {
    "name": "ipython",
    "version": 3
   },
   "file_extension": ".py",
   "mimetype": "text/x-python",
   "name": "python",
   "nbconvert_exporter": "python",
   "pygments_lexer": "ipython3",
   "version": "3.9.18"
  }
 },
 "nbformat": 4,
 "nbformat_minor": 2
}
