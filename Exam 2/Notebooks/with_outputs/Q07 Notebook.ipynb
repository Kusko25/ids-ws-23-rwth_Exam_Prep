{
 "cells": [
  {
   "cell_type": "code",
   "execution_count": 1,
   "metadata": {},
   "outputs": [],
   "source": [
    "### Q7 This fucking guy\n",
    "import base64"
   ]
  },
  {
   "cell_type": "code",
   "execution_count": 2,
   "metadata": {},
   "outputs": [
    {
     "name": "stdout",
     "output_type": "stream",
     "text": [
      "No, the dfg is completely cyclical, every node is reachable from every other.\n",
      "No, same reason as above\n",
      "No, we only have one exit point, so obviously that's not happening.\n",
      "Yep. efg fulfill the conditions for the redo part, l doesn't. acm are start/end points.\n",
      "So partitioning is \"acml\"(Partimus-Prime) and \"efg\"(His little brother Steve)\n"
     ]
    }
   ],
   "source": [
    "## (a)\n",
    "\n",
    "# Exclusive choice cut: Partition so that there is no connection between partitions\n",
    "answer = base64.b64decode(\n",
    "    b'Tm8sIHRoZSBkZmcgaXMgY29tcGxldGVseSBjeWNsaWNhbCwgZXZlcnkgbm9kZSBpcyByZWFjaGFibGUg'\n",
    "    b'ZnJvbSBldmVyeSBvdGhlci4='\n",
    ").decode()\n",
    "print(answer)\n",
    "\n",
    "# Sequence cut: Partition so that the partitions represent an acyclic graph\n",
    "# meaning it only flows in one direction\n",
    "answer = base64.b64decode(\n",
    "    b'Tm8sIHNhbWUgcmVhc29uIGFzIGFib3Zl'\n",
    ").decode()\n",
    "print(answer)\n",
    "\n",
    "# Parallel cut: Partition so that there is a connection between every partition pair and\n",
    "# there is at least one start and end point in each partition\n",
    "answer = base64.b64decode(\n",
    "    b'Tm8sIHdlIG9ubHkgaGF2ZSBvbmUgZXhpdCBwb2ludCwgc28gb2J2aW91c2x5IHRoYXQncyBub3QgaGFw'\n",
    "    b'cGVuaW5nLg=='\n",
    ").decode()\n",
    "print(answer)\n",
    "\n",
    "# Loop-Redo cut. (El Bastardo) All start, end points are in one partition (Partimus-Prime). \n",
    "# Every connection between going into Partimus-Prime leads to a start point, every going out\n",
    "# comes from an endpoint. All other partitions only connect to Partimus-Prime NOT each other\n",
    "answer = base64.b64decode(\n",
    "    b'WWVwLiBlZmcgZnVsZmlsbCB0aGUgY29uZGl0aW9ucyBmb3IgdGhlIHJlZG8gcGFydCwgbCBkb2Vzbid0LiBhY20gYXJl'\n",
    "    b'IHN0YXJ0L2VuZCBwb2ludHMuClNvIHBhcnRpdGlvbmluZyBpcyAiYWNtbCIoUGFydGltdXMtUHJpbWUpIGFuZCAiZWZn'\n",
    "    b'IihIaXMgbGl0dGxlIGJyb3RoZXIgU3RldmUp'\n",
    ").decode()\n",
    "print(answer)"
   ]
  },
  {
   "cell_type": "code",
   "execution_count": 3,
   "metadata": {},
   "outputs": [
    {
     "name": "stdout",
     "output_type": "stream",
     "text": [
      "['hih', 'j', 'h', 'k', 'i', 'hih', 'j', 'h', 'k', 'i', 'ihh', 'jk', 'h', 'ihh', 'jk', 'h', 'ihh', 'jk', 'h']\n",
      "h - 5\n",
      "hih - 2\n",
      "i - 2\n",
      "ihh - 3\n",
      "j - 2\n",
      "jk - 3\n",
      "k - 2\n"
     ]
    }
   ],
   "source": [
    "L = [\n",
    "    \"hihjhki\",\n",
    "    \"hihjhki\",\n",
    "    \"ihhjkh\",\n",
    "    \"ihhjkh\",\n",
    "    \"ihhjkh\"\n",
    "]\n",
    "New_L = []\n",
    "partitions = [\n",
    "    \"hi\",\n",
    "    \"jk\"\n",
    "]\n",
    "\n",
    "sequence = \"\"\n",
    "active_partition = -1\n",
    "for seq in L:\n",
    "    for el in seq:\n",
    "        # Determine partition\n",
    "        belonging = -1\n",
    "        for i,part in enumerate(partitions):\n",
    "            if el in part:\n",
    "                belonging = i\n",
    "                break\n",
    "        if belonging == -1:\n",
    "            raise ValueError(\"No matching partition.\")\n",
    "        if belonging!=active_partition:\n",
    "            New_L.append(sequence)\n",
    "            sequence = \"\" + el\n",
    "            active_partition = belonging\n",
    "        else:\n",
    "            sequence += el\n",
    "    New_L.append(sequence)\n",
    "    sequence = \"\"\n",
    "\n",
    "New_L = New_L[1:] # First one is always empty\n",
    "print(New_L)\n",
    "summary = dict()\n",
    "for seq in sorted(New_L):\n",
    "    if seq not in summary:\n",
    "        summary[seq] = 1\n",
    "    else:\n",
    "        summary[seq] += 1\n",
    "for seq in summary:\n",
    "    print(f\"{seq} - {summary[seq]}\")"
   ]
  }
 ],
 "metadata": {
  "kernelspec": {
   "display_name": "env-ids-ws23",
   "language": "python",
   "name": "python3"
  },
  "language_info": {
   "codemirror_mode": {
    "name": "ipython",
    "version": 3
   },
   "file_extension": ".py",
   "mimetype": "text/x-python",
   "name": "python",
   "nbconvert_exporter": "python",
   "pygments_lexer": "ipython3",
   "version": "3.9.18"
  }
 },
 "nbformat": 4,
 "nbformat_minor": 2
}
