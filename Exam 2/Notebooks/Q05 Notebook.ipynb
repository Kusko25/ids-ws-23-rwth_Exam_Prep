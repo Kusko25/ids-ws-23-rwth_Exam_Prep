{
 "cells": [
  {
   "cell_type": "code",
   "execution_count": 14,
   "metadata": {},
   "outputs": [],
   "source": [
    "### Q5\n",
    "import pandas as pd\n",
    "import numpy as np\n",
    "# Agglomerative Clustering\n",
    "from sklearn.cluster import AgglomerativeClustering, DBSCAN\n",
    "\n",
    "import seaborn as sns"
   ]
  },
  {
   "cell_type": "code",
   "execution_count": 15,
   "metadata": {},
   "outputs": [],
   "source": [
    "## (a)\n",
    "points_a = [None]*(18+1)\n",
    "\n",
    "# y = 1\n",
    "points_a[10] = (6, 1)\n",
    "# y = 2\n",
    "for i in range(3):\n",
    "    points_a[6+i] = (3+i, 2)\n",
    "    points_a[11+i] = (7+i, 2)\n",
    "# y = 3\n",
    "points_a[5], points_a[9], points_a[14] = (3, 3), (6, 3), (9, 3)\n",
    "# y = 4\n",
    "points_a[4], points_a[15] = (3, 4), (9, 4)\n",
    "# y = 5\n",
    "points_a[2], points_a[3] = (2, 5), (4, 5)\n",
    "points_a[16], points_a[17] = (8, 5), (10, 5)\n",
    "# y = 6\n",
    "points_a[1], points_a[18] = (3, 6), (9, 6)\n",
    "\n",
    "points_a = points_a[1:]\n",
    "points_a = np.array(points_a)"
   ]
  },
  {
   "cell_type": "code",
   "execution_count": 16,
   "metadata": {},
   "outputs": [
    {
     "name": "stdout",
     "output_type": "stream",
     "text": [
      "Agglomerative Clustering\n",
      "Distance Matrix\n",
      "d1: [('d2', 1.41), ('d3', 1.41), ('d4', 2.0), ('d5', 3.0)]\n",
      "d2: [('d1', 1.41), ('d4', 1.41), ('d3', 2.0), ('d5', 2.24)]\n",
      "d3: [('d1', 1.41), ('d4', 1.41), ('d2', 2.0), ('d5', 2.24)]\n",
      "d4: [('d5', 1.0), ('d2', 1.41), ('d3', 1.41), ('d1', 2.0)]\n",
      "d5: [('d4', 1.0), ('d6', 1.0), ('d7', 1.41), ('d2', 2.24)]\n",
      "d6: [('d5', 1.0), ('d7', 1.0), ('d4', 2.0), ('d8', 2.0)]\n",
      "d7: [('d6', 1.0), ('d8', 1.0), ('d5', 1.41), ('d4', 2.24)]\n",
      "d8: [('d7', 1.0), ('d9', 1.41), ('d10', 1.41), ('d6', 2.0)]\n",
      "d9: [('d8', 1.41), ('d11', 1.41), ('d10', 2.0), ('d7', 2.24)]\n",
      "d10: [('d8', 1.41), ('d11', 1.41), ('d9', 2.0), ('d7', 2.24)]\n",
      "d11: [('d12', 1.0), ('d9', 1.41), ('d10', 1.41), ('d8', 2.0)]\n",
      "d12: [('d11', 1.0), ('d13', 1.0), ('d14', 1.41), ('d9', 2.24)]\n",
      "d13: [('d12', 1.0), ('d14', 1.0), ('d11', 2.0), ('d15', 2.0)]\n",
      "d14: [('d13', 1.0), ('d15', 1.0), ('d12', 1.41), ('d11', 2.24)]\n",
      "d15: [('d14', 1.0), ('d16', 1.41), ('d17', 1.41), ('d13', 2.0)]\n",
      "d16: [('d15', 1.41), ('d18', 1.41), ('d17', 2.0), ('d14', 2.24)]\n",
      "d17: [('d15', 1.41), ('d18', 1.41), ('d16', 2.0), ('d14', 2.24)]\n",
      "d18: [('d16', 1.41), ('d17', 1.41), ('d15', 2.0), ('d14', 3.0)]\n"
     ]
    },
    {
     "data": {
      "image/png": "[encoded data removed]",
      "text/plain": [
       "<Figure size 640x480 with 1 Axes>"
      ]
     },
     "metadata": {},
     "output_type": "display_data"
    }
   ],
   "source": [
    "## (i)\n",
    "# Agglomerative Clustering\n",
    "# With minimum distance/single linkage the Agglomerative Clustering algorithm intitialzes every point\n",
    "# as its own cluster and then merges the two closest clusters at each step.\n",
    "# With a distance threshold given, the algorithm terminates once no two clusters are closer than the given distance.\n",
    "\n",
    "def distance_matrix(points, metric='euclidean', printout=True, return_matrix=False):\n",
    "    dist_matrix = np.zeros((len(points), len(points)))\n",
    "    for i in range(len(points)):\n",
    "        for j in range(len(points)):\n",
    "            if metric == 'euclidean':\n",
    "                dist_matrix[i, j] = np.linalg.norm(points[i]-points[j])\n",
    "            elif metric == 'manhattan':\n",
    "                dist_matrix[i, j] = np.sum(np.abs(points[i]-points[j]))\n",
    "    if printout:\n",
    "        print('Distance Matrix')\n",
    "        for i in range(len(points)):\n",
    "            row = sorted(zip([f'd{j+1}' for j in range(len(points))], dist_matrix[i].round(2)), key=lambda x: x[1])\n",
    "            print(f\"d{i+1}:\", row[1:5])\n",
    "    if return_matrix:\n",
    "        return dist_matrix\n",
    "\n",
    "def visualize_clusters(points, threshold=4/3, metric='euclidean', linkage='single'):\n",
    "    agg = AgglomerativeClustering(metric=metric, linkage=linkage, distance_threshold=threshold, n_clusters=None)\n",
    "    agg.fit(points)\n",
    "    print('Agglomerative Clustering')\n",
    "    clusters = []\n",
    "    for i,c in enumerate(agg.labels_):\n",
    "        if sum(agg.labels_ == c) > 1:\n",
    "            clusters.append(f\"{c+1}\")\n",
    "        else:\n",
    "            clusters.append(\"Single Point Cluster\")\n",
    "    results = pd.DataFrame({'Label':[f'd{i+1}' for i in range(len(points))],'x': points[:, 0], 'y': points[:, 1], 'cluster': clusters})\n",
    "    sns.scatterplot(data=results, x='x', y='y', hue='cluster')\n",
    "    # Imagine the Single Point Clusters are drawn red, which is something I tried to do but failed.\n",
    "    distance_matrix(points, metric=metric)\n",
    "\n",
    "visualize_clusters(points_a, threshold=4/3, metric='euclidean', linkage='single')"
   ]
  },
  {
   "cell_type": "code",
   "execution_count": 21,
   "metadata": {},
   "outputs": [
    {
     "name": "stdout",
     "output_type": "stream",
     "text": [
      "Minimum distance for a single big cluster: 1.4242\n",
      "Agglomerative Clustering\n",
      "Distance Matrix\n",
      "d1: [('d2', 1.41), ('d3', 1.41), ('d4', 2.0), ('d5', 3.0)]\n",
      "d2: [('d1', 1.41), ('d4', 1.41), ('d3', 2.0), ('d5', 2.24)]\n",
      "d3: [('d1', 1.41), ('d4', 1.41), ('d2', 2.0), ('d5', 2.24)]\n",
      "d4: [('d5', 1.0), ('d2', 1.41), ('d3', 1.41), ('d1', 2.0)]\n",
      "d5: [('d4', 1.0), ('d6', 1.0), ('d7', 1.41), ('d2', 2.24)]\n",
      "d6: [('d5', 1.0), ('d7', 1.0), ('d4', 2.0), ('d8', 2.0)]\n",
      "d7: [('d6', 1.0), ('d8', 1.0), ('d5', 1.41), ('d4', 2.24)]\n",
      "d8: [('d7', 1.0), ('d9', 1.41), ('d10', 1.41), ('d6', 2.0)]\n",
      "d9: [('d8', 1.41), ('d11', 1.41), ('d10', 2.0), ('d7', 2.24)]\n",
      "d10: [('d8', 1.41), ('d11', 1.41), ('d9', 2.0), ('d7', 2.24)]\n",
      "d11: [('d12', 1.0), ('d9', 1.41), ('d10', 1.41), ('d8', 2.0)]\n",
      "d12: [('d11', 1.0), ('d13', 1.0), ('d14', 1.41), ('d9', 2.24)]\n",
      "d13: [('d12', 1.0), ('d14', 1.0), ('d11', 2.0), ('d15', 2.0)]\n",
      "d14: [('d13', 1.0), ('d15', 1.0), ('d12', 1.41), ('d11', 2.24)]\n",
      "d15: [('d14', 1.0), ('d16', 1.41), ('d17', 1.41), ('d13', 2.0)]\n",
      "d16: [('d15', 1.41), ('d18', 1.41), ('d17', 2.0), ('d14', 2.24)]\n",
      "d17: [('d15', 1.41), ('d18', 1.41), ('d16', 2.0), ('d14', 2.24)]\n",
      "d18: [('d16', 1.41), ('d17', 1.41), ('d15', 2.0), ('d14', 3.0)]\n"
     ]
    },
    {
     "data": {
      "image/png": "[encoded data removed]",
      "text/plain": [
       "<Figure size 640x480 with 1 Axes>"
      ]
     },
     "metadata": {},
     "output_type": "display_data"
    }
   ],
   "source": [
    "## (ii)\n",
    "# Minimum distance for a single big cluster is the minimum distance distance between the most isolated point and\n",
    "# its closest neighbor. In other words, so you can draw lines between all points and never draw a line longer than\n",
    "# the minimum distance.\n",
    "\n",
    "# For every point, contains the distance to all other points.\n",
    "dist_matrix = distance_matrix(points_a, return_matrix=True, printout=False)\n",
    "\n",
    "min_merge_distance = 0\n",
    "for i in range(len(points_a)):\n",
    "    closest_neighbor = np.min(dist_matrix[i][dist_matrix[i] != 0]) # Exclude 0, which is the distance to itself\n",
    "    if closest_neighbor > min_merge_distance:\n",
    "        min_merge_distance = closest_neighbor\n",
    "\n",
    "min_merge_distance += 0.01 # Bit cheeky, but quick fix to make sure the threshold is not too low.\n",
    "\n",
    "print(f\"Minimum distance for a single big cluster: {min_merge_distance:.4f}\")\n",
    "visualize_clusters(points_a, threshold=min_merge_distance, metric='euclidean', linkage='single')"
   ]
  },
  {
   "cell_type": "code",
   "execution_count": 18,
   "metadata": {},
   "outputs": [
    {
     "data": {
      "text/plain": [
       "<Axes: >"
      ]
     },
     "execution_count": 18,
     "metadata": {},
     "output_type": "execute_result"
    },
    {
     "data": {
      "image/png": "[encoded data removed]",
      "text/plain": [
       "<Figure size 640x480 with 1 Axes>"
      ]
     },
     "metadata": {},
     "output_type": "display_data"
    }
   ],
   "source": [
    "## (b)\n",
    "# DBSCAN\n",
    "points_b = [None]*(12)\n",
    "x = \"2 2 4 2 4 2 9 7 9 7 9 11\".split()\n",
    "y = \"8 6 6 4 4 2 8 6 6 4 4 4\".split()\n",
    "for i in range(12):\n",
    "    points_b[i] = (int(x[i]), int(y[i]))\n",
    "\n",
    "points_b = np.array(points_b)\n",
    "sns.scatterplot(x=points_b[:, 0], y=points_b[:, 1])"
   ]
  },
  {
   "cell_type": "code",
   "execution_count": 19,
   "metadata": {},
   "outputs": [
    {
     "name": "stdout",
     "output_type": "stream",
     "text": [
      "MinPts: 1 -> At least 0 neighbors excluding itself within distance of 2\n",
      "\tCluster 0: ['d1', 'd2', 'd3', 'd4', 'd5', 'd6']\n",
      "\tCluster 1: ['d7', 'd8', 'd9', 'd10', 'd11', 'd12']\n",
      "\tCore points: d1 d2 d3 d4 d5 d6 d7 d8 d9 d10 d11 d12\n",
      "\tNon-core points: \n",
      "\tNoise: \n",
      "MinPts: 2 -> At least 1 neighbors excluding itself within distance of 2\n",
      "\tCluster 0: ['d1', 'd2', 'd3', 'd4', 'd5', 'd6']\n",
      "\tCluster 1: ['d7', 'd8', 'd9', 'd10', 'd11', 'd12']\n",
      "\tCore points: d1 d2 d3 d4 d5 d6 d7 d8 d9 d10 d11 d12\n",
      "\tNon-core points: \n",
      "\tNoise: \n",
      "MinPts: 3 -> At least 2 neighbors excluding itself within distance of 2\n",
      "\tCluster 0: ['d1', 'd2', 'd3', 'd4', 'd5', 'd6']\n",
      "\tCluster 1: ['d7', 'd8', 'd9', 'd10', 'd11', 'd12']\n",
      "\tCore points: d2 d3 d4 d5 d8 d9 d10 d11\n",
      "\tNon-core points: d1 d6 d7 d12\n",
      "\tNoise: \n",
      "MinPts: 4 -> At least 3 neighbors excluding itself within distance of 2\n",
      "\tCluster 0: ['d1', 'd2', 'd3', 'd4', 'd5', 'd6']\n",
      "\tCluster 1: ['d7', 'd8', 'd9', 'd10', 'd11', 'd12']\n",
      "\tCore points: d2 d4 d9 d11\n",
      "\tNon-core points: d1 d3 d5 d6 d7 d8 d10 d12\n",
      "\tNoise: \n",
      "MinPts: 5 -> At least 4 neighbors excluding itself within distance of 2\n",
      "\tCluster -1: ['d1', 'd2', 'd3', 'd4', 'd5', 'd6', 'd7', 'd8', 'd9', 'd10', 'd11', 'd12']\n",
      "\tCore points: \n",
      "\tNon-core points: d1 d2 d3 d4 d5 d6 d7 d8 d9 d10 d11 d12\n",
      "\tNoise: d1 d2 d3 d4 d5 d6 d7 d8 d9 d10 d11 d12\n"
     ]
    }
   ],
   "source": [
    "# DBSCAN  check for every point how many neighbors it has within distance of epsilon\n",
    "# If the number of neighbors is greater than MinPts, the point is a core point.\n",
    "# Core points that are neighbors are put in the same cluster. Non-core points that have a core point as their neighbor\n",
    "# are put in the same cluster as the core point (closest core point). All other points are noise.\n",
    "# If MinPts is 1, all points are core points and the algorithm is equivalent to single-linkage clustering.\n",
    "\n",
    "epsilon = 2\n",
    "for j in range(len(points_b)):\n",
    "    classif = DBSCAN(eps=epsilon, min_samples=j+1, metric='manhattan').fit(points_b)\n",
    "    print(f\"MinPts: {j+1} -> At least {j} neighbors excluding itself within distance of {epsilon}\")\n",
    "    result = dict()\n",
    "    for i, c in enumerate(classif.labels_):\n",
    "        if c in result:\n",
    "            result[c].append(f\"d{i+1}\")\n",
    "        else:\n",
    "            result[c] = [f\"d{i+1}\"]\n",
    "    for k, v in result.items():\n",
    "        print(f\"\\tCluster {k}: {v}\")\n",
    "    print(f\"\\tCore points: {' '.join(f'd{k+1}' for k in classif.core_sample_indices_)}\")\n",
    "    print(f\"\\tNon-core points: {' '.join(f'd{i+1}' for i in range(len(points_b)) if i not in classif.core_sample_indices_)}\")\n",
    "    print(f\"\\tNoise: {' '.join(f'd{i+1}' for i in range(len(points_b)) if classif.labels_[i] == -1)}\")\n",
    "    if len(np.unique(classif.labels_)) == 1:\n",
    "        break"
   ]
  }
 ],
 "metadata": {
  "kernelspec": {
   "display_name": "env-ids-ws23",
   "language": "python",
   "name": "python3"
  },
  "language_info": {
   "codemirror_mode": {
    "name": "ipython",
    "version": 3
   },
   "file_extension": ".py",
   "mimetype": "text/x-python",
   "name": "python",
   "nbconvert_exporter": "python",
   "pygments_lexer": "ipython3",
   "version": "3.9.18"
  }
 },
 "nbformat": 4,
 "nbformat_minor": 2
}
