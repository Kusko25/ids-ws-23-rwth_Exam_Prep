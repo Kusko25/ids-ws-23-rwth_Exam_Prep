{
 "cells": [
  {
   "cell_type": "code",
   "execution_count": null,
   "metadata": {},
   "outputs": [],
   "source": [
    "import base64\n",
    "import pandas as pd"
   ]
  },
  {
   "cell_type": "code",
   "execution_count": null,
   "metadata": {},
   "outputs": [],
   "source": [
    "### Q6 Frequent Itemsets"
   ]
  },
  {
   "cell_type": "code",
   "execution_count": null,
   "metadata": {},
   "outputs": [],
   "source": [
    "Vocabulary = set()\n",
    "Dataset = []\n",
    "def build_vocab(Dataset):\n",
    "    global Vocabulary\n",
    "    Vocabulary = set()\n",
    "    for transaction in Dataset:\n",
    "        for el in transaction:\n",
    "            Vocabulary.add(el)\n",
    "\n",
    "def preprocess(itemset):\n",
    "    if isinstance(itemset, str):\n",
    "        return set(itemset.upper())\n",
    "    return itemset\n",
    "\n",
    "def support(itemset, sw_count=False):\n",
    "    # Measure of how popular an itemset is\n",
    "    itemset = preprocess(itemset)\n",
    "    count = 0\n",
    "    for transaction in Dataset:\n",
    "        if itemset.issubset(transaction):\n",
    "            count += 1\n",
    "    if sw_count:\n",
    "        return count\n",
    "    return count / len(Dataset)\n",
    "\n",
    "def confidence(left, right):\n",
    "    # Measure of how well the rule A -> B holds\n",
    "    left, right = preprocess(left), preprocess(right)\n",
    "    return support(left.union(right)) / support(left)\n",
    "\n",
    "def lift(left, right):\n",
    "    # Measure of how much more likely the rule A -> B is than if the two events were independent\n",
    "    left, right = preprocess(left), preprocess(right)\n",
    "    return confidence(left, right) / support(right)\n",
    "\n",
    "def is_frequent(itemset, min_support=0.5, min_support_count=None):\n",
    "    # An itemset is frequent if its support is greater than or equal to min_support\n",
    "    if min_support_count:\n",
    "        return support(itemset, sw_count=True) >= min_support_count\n",
    "    return support(itemset) >= min_support\n",
    "\n",
    "def is_maximal(itemset, min_support=0.5, min_support_count=None):\n",
    "    # An itemset is maximal if it is frequent and no immediate supersets are frequent\n",
    "    itemset = preprocess(itemset)\n",
    "    if not is_frequent(itemset, min_support, min_support_count):\n",
    "        return False\n",
    "    \n",
    "    for el in Vocabulary-itemset:\n",
    "        if is_frequent(itemset | {el}, min_support, min_support_count):\n",
    "            return False\n",
    "    return True\n",
    "\n",
    "def is_closed(itemset):\n",
    "    # An itemset is closed if none of its immediate supersets have the same support\n",
    "    # count as the itemset.\n",
    "    # Or more easily understood they all have a lower support. (Can't be higher because superset)\n",
    "    itemset = preprocess(itemset)\n",
    "    s_count = support(itemset,True)\n",
    "    for el in Vocabulary-itemset:\n",
    "        if support(itemset | {el}, True) == s_count:\n",
    "            return False\n",
    "    return True"
   ]
  },
  {
   "cell_type": "code",
   "execution_count": null,
   "metadata": {},
   "outputs": [],
   "source": [
    "## (a)\n",
    "Dataset_0 = [\n",
    "    *[{'A', 'B', 'C'}]*5,\n",
    "    *[{'A', 'C', 'D'}]*3,\n",
    "    {'A', 'D'},\n",
    "    {'B', 'D'}\n",
    "]\n",
    "Dataset = Dataset_0\n",
    "build_vocab(Dataset)"
   ]
  },
  {
   "cell_type": "code",
   "execution_count": null,
   "metadata": {},
   "outputs": [],
   "source": [
    "# (i)\n",
    "answer = b'QUI='\n",
    "answer = base64.b64decode(answer).decode('utf-8')\n",
    "# answer = \"Your answer here\"\n",
    "msc = min_support_count = 4\n",
    "ms = min_support = None\n",
    "print(f\"Itemset '{answer}' is{' not' if not is_frequent(answer,ms,msc) else ''} frequent\")\n",
    "print(f\"Itemset '{answer}' is{' not' if not is_closed(answer) else ''} closed\")\n",
    "if is_frequent(answer,ms,msc) and not is_closed(answer):\n",
    "    print(f\"Correct!\")    "
   ]
  },
  {
   "cell_type": "code",
   "execution_count": null,
   "metadata": {},
   "outputs": [],
   "source": [
    "# (ii)\n",
    "answer = b'QUNE'\n",
    "answer = base64.b64decode(answer).decode('utf-8')\n",
    "# answer = \"Your answer here\"\n",
    "msc = min_support_count = 4\n",
    "ms = min_support = None\n",
    "print(f\"Itemset '{answer}' is{' not' if not is_closed(answer) else ''} closed\")\n",
    "print(f\"Itemset '{answer}' is{' not' if not is_frequent(answer,ms,msc) else ''} frequent\")\n",
    "if not is_frequent(answer,ms,msc) and is_closed(answer):\n",
    "    print(f\"Correct!\")    "
   ]
  },
  {
   "cell_type": "code",
   "execution_count": null,
   "metadata": {},
   "outputs": [],
   "source": [
    "# (iii)\n",
    "answer = b'QUJD'\n",
    "answer = base64.b64decode(answer).decode('utf-8')\n",
    "# answer = \"Your answer here\"\n",
    "msc = min_support_count = 4\n",
    "ms = min_support = None\n",
    "print(f\"Itemset '{answer}' is{' not' if not is_frequent(answer,ms,msc) else ''} frequent\")\n",
    "print(f\"Itemset '{answer}' is{' not' if not is_maximal(answer,ms,msc) else ''} maximal\")\n",
    "if is_frequent(answer,ms,msc) and is_maximal(answer,ms,msc):\n",
    "    print(f\"Correct!\")"
   ]
  },
  {
   "cell_type": "code",
   "execution_count": null,
   "metadata": {},
   "outputs": [],
   "source": [
    "## (b)\n",
    "Dataset_1 = [\n",
    "    *[{'A', 'B','X'}]*100,\n",
    "    {\"A\",\"X\"},\n",
    "    {\"B\",\"X\"},\n",
    "    {\"X\"},\n",
    "]\n",
    "Dataset_2 = [\n",
    "    *[{'A', 'B','X'}]*100,\n",
    "    {\"A\",\"X\"},\n",
    "    *[{\"B\",\"X\"}]*10,\n",
    "    *[{\"X\"}]*10000,\n",
    "    *[{'A', 'B','Y'}]*100,\n",
    "    {\"A\",\"Y\"},\n",
    "    {\"B\",\"Y\"},\n",
    "    {\"Y\"},\n",
    "]\n",
    "R1 = (\"A\",\"B\")\n",
    "R2 = (\"B\",\"A\")"
   ]
  },
  {
   "cell_type": "code",
   "execution_count": null,
   "metadata": {},
   "outputs": [],
   "source": [
    "Dataset = Dataset_1\n",
    "build_vocab(Dataset)\n",
    "res_1 = [confidence(*R1), lift(*R1), confidence(*R2), lift(*R2)]\n",
    "Dataset = Dataset_2\n",
    "build_vocab(Dataset)\n",
    "res_2 = [confidence(*R1), lift(*R1), confidence(*R2), lift(*R2)]\n",
    "for l,r in zip(res_1,res_2):\n",
    "    equality_op = \"\"\n",
    "    if l == r:\n",
    "        equality_op = \"=\"\n",
    "    elif l > r:\n",
    "        equality_op = \">\"\n",
    "    else:\n",
    "        equality_op = \"<\"\n",
    "    print(round(l,2),equality_op, round(r,2))"
   ]
  },
  {
   "cell_type": "code",
   "execution_count": null,
   "metadata": {},
   "outputs": [],
   "source": [
    "## (c) That bleeding syntax\n",
    "# I don't have the weird brackets so <> will have to do\n",
    "# Ok a sequence <a(bc)dab> really means <(a)(bc)(d)(a)(b)> as in each of these in brackets is a transaction\n",
    "# and the sequence in <> is the history of a single entity e.g. the shopping history of a customer.\n",
    "\n",
    "# When asked for a support count of <abc> -> <(a)(b)(c)> in Dataset [<...>,<...>,<...>], we are looking for the amount \n",
    "# of times that sequence appears in the histories of the customers, in that order but possibly with other transactions\n",
    "# in between. Also, remember support count means 'is subset' so <abc> matches <A(dB)gefC> and <A(B)C> but not <A(C)B>\n",
    "# Also also, while order is important for transaction history it does not matter within a transaction so \n",
    "# (ab) matches (ab),(ba),(dfegakljb)"
   ]
  },
  {
   "cell_type": "code",
   "execution_count": null,
   "metadata": {},
   "outputs": [],
   "source": [
    "# Sorry I won't make a code thing for this, I'm hungry, I'll just put the answer in base64\n",
    "answer = base64.b64decode(\n",
    "    b'CiAgICAxICAgMiAgIDMgICA0ICAgVG90YWwKaSAgIDEgICAwI'\n",
    "    b'CAgMSAgIDEgICAzCmlpICAwICAgMSAgIDAgICAwICAgMQppaW'\n",
    "    b'kgMCAgIDAgICAwICAgMCAgIDAKaXYgIDEgICAwICAgMSAgIDA'\n",
    "    b'gICAyCg=='\n",
    ").decode('utf-8')\n",
    "print(answer)"
   ]
  }
 ],
 "metadata": {
  "kernelspec": {
   "display_name": "env-ids-ws23",
   "language": "python",
   "name": "python3"
  },
  "language_info": {
   "codemirror_mode": {
    "name": "ipython",
    "version": 3
   },
   "file_extension": ".py",
   "mimetype": "text/x-python",
   "name": "python",
   "nbconvert_exporter": "python",
   "pygments_lexer": "ipython3",
   "version": "3.9.18"
  }
 },
 "nbformat": 4,
 "nbformat_minor": 2
}
