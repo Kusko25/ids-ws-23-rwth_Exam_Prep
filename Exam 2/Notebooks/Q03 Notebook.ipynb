{
 "cells": [
  {
   "cell_type": "code",
   "execution_count": null,
   "metadata": {},
   "outputs": [],
   "source": [
    "import pandas as pd\n",
    "import numpy as np"
   ]
  },
  {
   "cell_type": "code",
   "execution_count": null,
   "metadata": {},
   "outputs": [],
   "source": [
    "df = {\n",
    "    'x': [1,2,4],\n",
    "    'y' : [6,11,32]\n",
    "}\n",
    "df = pd.DataFrame(df)\n",
    "\n",
    "func_1 = lambda x: 5*x+1\n",
    "func_2 = lambda x: 7*x+4\n",
    "func_3 = lambda x: 6*x+4\n",
    "\n",
    "df['func_1'] = df['x'].apply(func_1)\n",
    "df['func_2'] = df['x'].apply(func_2)\n",
    "df['func_3'] = df['x'].apply(func_3)\n",
    "\n",
    "display(df)"
   ]
  },
  {
   "cell_type": "code",
   "execution_count": null,
   "metadata": {},
   "outputs": [],
   "source": [
    "## (a)\n",
    "# Mean squared error\n",
    "def mse(y_true, y_pred):\n",
    "    total = 0\n",
    "    for i in range(len(y_true)):\n",
    "        total += (y_true[i] - y_pred[i])**2\n",
    "    return total/len(y_true)\n",
    "# Mean absolute error\n",
    "def mae(y_true, y_pred):\n",
    "    total = 0\n",
    "    for i in range(len(y_true)):\n",
    "        total += abs(y_true[i] - y_pred[i])\n",
    "    return total/len(y_true)\n",
    "\n",
    "cell_df = {\n",
    "    'func_1': [mse(df['y'], df['func_1']), mae(df['y'], df['func_1'])],\n",
    "    'func_2': [mse(df['y'], df['func_2']), mae(df['y'], df['func_2'])],\n",
    "    'func_3': [mse(df['y'], df['func_3']), mae(df['y'], df['func_3'])]\n",
    "}\n",
    "cell_df = pd.DataFrame.from_dict(cell_df, orient='index', columns=['MSE', 'MAE'])\n",
    "display(cell_df.round(2))"
   ]
  },
  {
   "cell_type": "code",
   "execution_count": null,
   "metadata": {},
   "outputs": [],
   "source": [
    "# With library\n",
    "from sklearn.metrics import mean_squared_error, mean_absolute_error\n",
    "cell_df = {\n",
    "    'func_1': [mean_squared_error(df['y'], df['func_1']), mean_absolute_error(df['y'], df['func_1'])],\n",
    "    'func_2': [mean_squared_error(df['y'], df['func_2']), mean_absolute_error(df['y'], df['func_2'])],\n",
    "    'func_3': [mean_squared_error(df['y'], df['func_3']), mean_absolute_error(df['y'], df['func_3'])]\n",
    "}\n",
    "cell_df = pd.DataFrame.from_dict(cell_df, orient='index', columns=['MSE', 'MAE'])\n",
    "display(cell_df.round(2))"
   ]
  },
  {
   "cell_type": "code",
   "execution_count": null,
   "metadata": {},
   "outputs": [],
   "source": [
    "## (b)\n",
    "# Pretty sure the gradient of RMSE is a constant (because no square), but RMSE = sqrt(MSE) so if you apply the chain rule\n",
    "# you get 1/2 * (1/RMSE) * {derivative of MSE}, which doesn't look like a constant to me, so I don't know.\n",
    "# It's what I would have written as an answer, or more likely, I'd have skipped the question, because I spent too much time\n",
    "# on it to get to this point. And also I had to look up the chain rule, which I couldn't have done in the exam."
   ]
  }
 ],
 "metadata": {
  "kernelspec": {
   "display_name": "env-ids-ws23",
   "language": "python",
   "name": "python3"
  },
  "language_info": {
   "codemirror_mode": {
    "name": "ipython",
    "version": 3
   },
   "file_extension": ".py",
   "mimetype": "text/x-python",
   "name": "python",
   "nbconvert_exporter": "python",
   "pygments_lexer": "ipython3",
   "version": "3.9.18"
  }
 },
 "nbformat": 4,
 "nbformat_minor": 2
}
