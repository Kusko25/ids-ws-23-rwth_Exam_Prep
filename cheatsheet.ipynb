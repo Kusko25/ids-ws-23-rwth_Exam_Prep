{
 "cells": [
  {
   "cell_type": "markdown",
   "metadata": {},
   "source": [
    "# IDS Cheatsheet for Exam Prep"
   ]
  },
  {
   "cell_type": "markdown",
   "metadata": {},
   "source": [
    "## Statistical Preprocessing\n",
    "\n",
    "|Mean|Variance|Standard Deviation|Standard Score|Covariance|Correlation|\n",
    "|:---|:---|:---|:---|:---|:---|\n",
    "|$mean(X) = \\frac{sum(X)}{len(X)}$|$var(a)=\\frac{\\sum_{a_i \\in a}(a_i - \\bar{a})^2}{len(a)-1}$|$std(V) = \\sqrt{var(V)}$|$stsc(x) = \\frac{x-mean(X)}{std(X)}$|$\\frac{1}{n-1}\\sum_{i=1}^n ((a_i-\\bar{a})*(b_i-\\bar{b}))$|$\\frac{cov(a,b)}{std(a)*std(b)}$|\n",
    "\n",
    "|Entropy||||||\n",
    "|:---|:---|:---|:---|:---|:---|\n",
    "|$H(t) = - \\sum_{i=1}^I(P(t=i)*log_s(P(t=i)))$||||||"
   ]
  },
  {
   "cell_type": "markdown",
   "metadata": {},
   "source": [
    "## Activation Functions Neural Networks\n",
    "|Identity|Logistic/Sigmoid|Step|\n",
    "|---|---|---|\n",
    "|$f(x)=x$|$\\frac{1}{1+e^{-x}}$|$x \\geq 0 \\rightarrow 1$|"
   ]
  },
  {
   "cell_type": "markdown",
   "metadata": {},
   "source": [
    "## Confusion Matrix\n",
    "<table><tr><td colspan=\"2\" rowspan=\"2\"></td><td colspan=\"2\">predicted</td></tr><tr><td>True</td><td>False</td></tr><tr><td rowspan=\"2\">target</td><td>True</td><td>True Positive</td><td>False Negative</td></tr><tr><td>False</td><td>False Positive</td><td>True Negative</td></tr></table>\n",
    " \n",
    " -----------------------------\n",
    "\n",
    "|Recall|Specificity|Precision|\n",
    "|---|---|---|\n",
    "|$\\frac{TP}{TP+FN}$|$\\frac{TN}{TN+FP}$|$\\frac{TP}{TP+FP}$|\n",
    "|sensitivity, recall, hit rate, or true positive rate|specificity, selectivity or true negative rate|precision or positive predictive value|"
   ]
  },
  {
   "cell_type": "markdown",
   "metadata": {},
   "source": [
    "## Distance Metrics\n",
    "\n",
    "|Euclidean|Manhattan|Cosine|Dot Product|Magnitude|\n",
    "|---|---|---|---|---|\n",
    "|$d(x,y) = \\sqrt{\\sum_{i=1}^n (x_i-y_i)^2}$|$d(x,y) = \\sum_{i=1}^n \\|x_i-y_i\\|$|$d(x,y) = \\frac{x \\cdot y}{\\|\\|x\\|\\| \\cdot \\|\\|y\\|\\|}$|$x \\cdot y = \\sum_{i=1}^n x_i \\cdot y_i$|$\\|\\|x\\|\\| = \\sqrt{\\sum_{i=1}^n x_i^2}$|\n",
    "\n",
    "## Clustering\n",
    "\n",
    "|-|K-Means|DBSCAN|Hierarchical|\n",
    "|:---|---|---|---|\n",
    "|**Initial**|K-Randomly picked centroids|All points with minPts in $\\epsilon$-neighborhood set as core points|Each point is a cluster|\n",
    "|**Iteration**|Assign points to nearest centroid, average points to get new centroid|-|Merge closest clusters|\n",
    "|**Termination**|Centroids don't (or minimal) change|Core points within $\\epsilon$-neighborhood are clustered, non-core with core point in $\\epsilon$-neighborhood are assigned to closest cluster, rest are noise|Target number of clusters is reached or no more clusters can be merged without exceeding threshold|"
   ]
  },
  {
   "cell_type": "markdown",
   "metadata": {},
   "source": [
    "## Itemsets\n",
    "\n",
    "### Metrics\n",
    "|Support|Confidence|Lift|Conviction|\n",
    "|---|---|---|---|\n",
    "|$supp(X) = \\frac{count(X)}{N}$|$conf(X \\rightarrow Y) = \\frac{supp(X \\cup Y)}{supp(X)}$|$lift(X \\rightarrow Y) = \\frac{conf(X \\rightarrow Y)}{supp(Y)} = \\frac{supp(X \\cup Y)}{supp(X)*supp(Y)}$|$conv(X \\rightarrow Y) = \\frac{1-supp(Y)}{1-conf(X \\rightarrow Y)}$|\n",
    "|Support shows how relevant this itemset is|Confidence shows how likely Y is bought if X is bought|Lift shows how likely Y is bought if X is bought, while controlling for how popular Y is|Conviction shows how much X is bought without Y|\n",
    "### Properties\n",
    "|Frequent|Closed|Maximal Frequent|\n",
    "|---|---|---|\n",
    "|Set has more than min support|All supersets have lower support|Set is frequent, closed and no superset is frequent|"
   ]
  },
  {
   "cell_type": "markdown",
   "metadata": {},
   "source": [
    "## Petri Nets\n",
    "\n",
    "|Situation|Behavior|\n",
    "|---|---|\n",
    "|All output places are empty|Outputs +1 token, produced+=outputs|\n",
    "|Some output places have a token|Outputs +1 token, produced+=outputs positions can have multiple tokens|\n",
    "|---|---|\n",
    "|All input places have a token|Inputs -1 token, consumed+=inputs|\n",
    "|Some input places have a token|Produce missing_tokens on empty inputs, Inputs -1 token, consumed+=inputs, missing+=missing_tokens, produced not affected|\n",
    "|---|---|\n",
    "|Start of trace|start_positions +1 token produced+=start_positions|\n",
    "|End of trace|end_positions -1 token consumed+=end_positions missing+=amount_missing_on_end|\n",
    "|---|---|\n",
    "|Tokens remaining after trace|remaining+=tokens|\n",
    "\n",
    "### Fitness\n",
    "$fitness = \\frac{1}{2}(1-\\frac{missing}{consumed})+\\frac{1}{2}(1-\\frac{remaining}{produced})$\n",
    "### Rules\n",
    "$remaining = produced + missing - consumed$\n",
    "\n",
    "$produced + missing \\geq consumed \\geq missing$ "
   ]
  },
  {
   "cell_type": "markdown",
   "metadata": {},
   "source": [
    "## Inductive Miner\n",
    "\n",
    "Maximize # of partitions.\n",
    "### Exclusive Choice Cut $X$\n",
    "No connection between partitions\n",
    "\n",
    "### Sequence Cut $\\rightarrow$\n",
    "Partitions are acyclic\n",
    "\n",
    "### Parallel Cut $\\land$\n",
    "Each partition has a start and end. Every node in partition A can be reached from every node in partition B and vice versa.\n",
    "\n",
    "### Loop Cut $\\circlearrowleft$\n",
    "All start and end nodes are in the same partition. Every outgoing edge from that partition comes from an end node and every incoming edge goes to a start node."
   ]
  }
 ],
 "metadata": {
  "kernelspec": {
   "display_name": "env-ids-ws23",
   "language": "python",
   "name": "python3"
  },
  "language_info": {
   "codemirror_mode": {
    "name": "ipython",
    "version": 3
   },
   "file_extension": ".py",
   "mimetype": "text/x-python",
   "name": "python",
   "nbconvert_exporter": "python",
   "pygments_lexer": "ipython3",
   "version": "3.9.18"
  }
 },
 "nbformat": 4,
 "nbformat_minor": 2
}
